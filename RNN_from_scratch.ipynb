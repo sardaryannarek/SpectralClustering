{
  "cells": [
    {
      "cell_type": "code",
      "execution_count": 111,
      "id": "45a5286c",
      "metadata": {
        "id": "45a5286c"
      },
      "outputs": [],
      "source": [
        "import numpy as np\n",
        "\n",
        "# from tensorflow import keras\n",
        "#\n",
        "# from keras.preprocessing.text import Tokenizer\n",
        "\n",
        "# tokenizer = Tokenizer(char_level=True)\n",
        "\n",
        "filename = \"winnie.txt\"\n",
        "\n",
        "# filename = 'little.txt'\n"
      ]
    },
    {
      "cell_type": "markdown",
      "source": [],
      "metadata": {
        "id": "8TWGEvDWeqTr"
      },
      "id": "8TWGEvDWeqTr"
    },
    {
      "cell_type": "code",
      "execution_count": 112,
      "id": "dc597cfd",
      "metadata": {
        "colab": {
          "base_uri": "https://localhost:8080/"
        },
        "id": "dc597cfd",
        "outputId": "879c828a-7d78-4abf-8aaa-0d48711fc3a7"
      },
      "outputs": [
        {
          "output_type": "stream",
          "name": "stdout",
          "text": [
            "total number of characters:  122781\n"
          ]
        }
      ],
      "source": [
        "# read the file and covert to lowercase\n",
        "\n",
        "text = open(filename, 'r').read().lower()\n",
        "\n",
        "print('total number of characters: ', len(text))\n",
        "\n",
        "\n",
        "\n"
      ]
    },
    {
      "cell_type": "code",
      "execution_count": 113,
      "id": "63624362",
      "metadata": {
        "colab": {
          "base_uri": "https://localhost:8080/"
        },
        "id": "63624362",
        "outputId": "67a806f1-ed62-4db6-9c4e-8a7a3656e9f3"
      },
      "outputs": [
        {
          "output_type": "stream",
          "name": "stdout",
          "text": [
            "total number of unique characters:  52\n"
          ]
        }
      ],
      "source": [
        "dictianory= sorted(list(set(text)))\n",
        "print('total number of unique characters: ', len(dictianory))"
      ]
    },
    {
      "cell_type": "code",
      "execution_count": 114,
      "id": "d2b16a0a",
      "metadata": {
        "id": "d2b16a0a"
      },
      "outputs": [],
      "source": [
        "char_to_int = dict((char, i) for i, char in enumerate(dictianory))"
      ]
    },
    {
      "cell_type": "code",
      "execution_count": 115,
      "id": "7aaf6e36",
      "metadata": {
        "id": "7aaf6e36"
      },
      "outputs": [],
      "source": [
        "int_to_char = dict((i, char) for i, char in enumerate(dictianory))"
      ]
    },
    {
      "cell_type": "code",
      "execution_count": 116,
      "id": "63966903",
      "metadata": {
        "colab": {
          "base_uri": "https://localhost:8080/"
        },
        "id": "63966903",
        "outputId": "0ad55e64-1570-4947-f0c4-ddd850d70e1f"
      },
      "outputs": [
        {
          "output_type": "execute_result",
          "data": {
            "text/plain": [
              "{0: '\\n',\n",
              " 1: ' ',\n",
              " 2: '!',\n",
              " 3: '\"',\n",
              " 4: \"'\",\n",
              " 5: '(',\n",
              " 6: ')',\n",
              " 7: '*',\n",
              " 8: ',',\n",
              " 9: '-',\n",
              " 10: '.',\n",
              " 11: '0',\n",
              " 12: '1',\n",
              " 13: '2',\n",
              " 14: '3',\n",
              " 15: '4',\n",
              " 16: '5',\n",
              " 17: '6',\n",
              " 18: '7',\n",
              " 19: '8',\n",
              " 20: '9',\n",
              " 21: ':',\n",
              " 22: ';',\n",
              " 23: '?',\n",
              " 24: '_',\n",
              " 25: 'a',\n",
              " 26: 'b',\n",
              " 27: 'c',\n",
              " 28: 'd',\n",
              " 29: 'e',\n",
              " 30: 'f',\n",
              " 31: 'g',\n",
              " 32: 'h',\n",
              " 33: 'i',\n",
              " 34: 'j',\n",
              " 35: 'k',\n",
              " 36: 'l',\n",
              " 37: 'm',\n",
              " 38: 'n',\n",
              " 39: 'o',\n",
              " 40: 'p',\n",
              " 41: 'q',\n",
              " 42: 'r',\n",
              " 43: 's',\n",
              " 44: 't',\n",
              " 45: 'u',\n",
              " 46: 'v',\n",
              " 47: 'w',\n",
              " 48: 'x',\n",
              " 49: 'y',\n",
              " 50: 'z',\n",
              " 51: 'æ'}"
            ]
          },
          "metadata": {},
          "execution_count": 116
        }
      ],
      "source": [
        "int_to_char"
      ]
    },
    {
      "cell_type": "code",
      "execution_count": 117,
      "id": "fee404d8",
      "metadata": {
        "colab": {
          "base_uri": "https://localhost:8080/"
        },
        "id": "fee404d8",
        "outputId": "72692892-dc88-44fb-bf30-75a61015cc8d"
      },
      "outputs": [
        {
          "output_type": "execute_result",
          "data": {
            "text/plain": [
              "{'\\n': 0,\n",
              " ' ': 1,\n",
              " '!': 2,\n",
              " '\"': 3,\n",
              " \"'\": 4,\n",
              " '(': 5,\n",
              " ')': 6,\n",
              " '*': 7,\n",
              " ',': 8,\n",
              " '-': 9,\n",
              " '.': 10,\n",
              " '0': 11,\n",
              " '1': 12,\n",
              " '2': 13,\n",
              " '3': 14,\n",
              " '4': 15,\n",
              " '5': 16,\n",
              " '6': 17,\n",
              " '7': 18,\n",
              " '8': 19,\n",
              " '9': 20,\n",
              " ':': 21,\n",
              " ';': 22,\n",
              " '?': 23,\n",
              " '_': 24,\n",
              " 'a': 25,\n",
              " 'b': 26,\n",
              " 'c': 27,\n",
              " 'd': 28,\n",
              " 'e': 29,\n",
              " 'f': 30,\n",
              " 'g': 31,\n",
              " 'h': 32,\n",
              " 'i': 33,\n",
              " 'j': 34,\n",
              " 'k': 35,\n",
              " 'l': 36,\n",
              " 'm': 37,\n",
              " 'n': 38,\n",
              " 'o': 39,\n",
              " 'p': 40,\n",
              " 'q': 41,\n",
              " 'r': 42,\n",
              " 's': 43,\n",
              " 't': 44,\n",
              " 'u': 45,\n",
              " 'v': 46,\n",
              " 'w': 47,\n",
              " 'x': 48,\n",
              " 'y': 49,\n",
              " 'z': 50,\n",
              " 'æ': 51}"
            ]
          },
          "metadata": {},
          "execution_count": 117
        }
      ],
      "source": [
        "char_to_int"
      ]
    },
    {
      "cell_type": "code",
      "execution_count": 118,
      "id": "2267a636",
      "metadata": {
        "id": "2267a636"
      },
      "outputs": [],
      "source": [
        "text_len = len(text)"
      ]
    },
    {
      "cell_type": "code",
      "execution_count": 119,
      "id": "a0dee788",
      "metadata": {
        "colab": {
          "base_uri": "https://localhost:8080/"
        },
        "id": "a0dee788",
        "outputId": "90596b19-8a49-4a64-90f3-777857ab1b66"
      },
      "outputs": [
        {
          "output_type": "execute_result",
          "data": {
            "text/plain": [
              "122781"
            ]
          },
          "metadata": {},
          "execution_count": 119
        }
      ],
      "source": [
        "text_len"
      ]
    },
    {
      "cell_type": "code",
      "execution_count": 120,
      "id": "d2bc084c",
      "metadata": {
        "id": "d2bc084c"
      },
      "outputs": [],
      "source": [
        "x_data = []\n",
        "y_data = []\n",
        "seq_length = 12\n",
        "for i in range(text_len - seq_length - 1):\n",
        "    data = text[i:i + seq_length]\n",
        "    label = text[i+1 : i + 1 + seq_length]\n",
        "#     print(\"data : \" + data + \" label : \" + label)\n",
        "    x_data.append([char_to_int[char] for char in data])\n",
        "    y_data.append([char_to_int[char] for char in label])\n",
        "\n",
        "\n",
        "\n"
      ]
    },
    {
      "cell_type": "code",
      "execution_count": 121,
      "id": "a6130f46",
      "metadata": {
        "id": "a6130f46"
      },
      "outputs": [],
      "source": [
        "a = x_data[0]\n",
        "b = y_data[0]"
      ]
    },
    {
      "cell_type": "code",
      "execution_count": 122,
      "id": "280ae628",
      "metadata": {
        "colab": {
          "base_uri": "https://localhost:8080/"
        },
        "id": "280ae628",
        "outputId": "f807f3e5-9fb4-4bb6-bfdc-de38b762ce92"
      },
      "outputs": [
        {
          "output_type": "execute_result",
          "data": {
            "text/plain": [
              "['h', 'e', 'r', 'e', ' ', 'i', 's', ' ', 'e', 'd', 'w', 'a']"
            ]
          },
          "metadata": {},
          "execution_count": 122
        }
      ],
      "source": [
        "[int_to_char[num] for num in a]"
      ]
    },
    {
      "cell_type": "code",
      "execution_count": 123,
      "id": "5b3b9613",
      "metadata": {
        "colab": {
          "base_uri": "https://localhost:8080/"
        },
        "id": "5b3b9613",
        "outputId": "3c6b42ce-bb9c-43a1-fe71-e9d36e7e6f08"
      },
      "outputs": [
        {
          "output_type": "execute_result",
          "data": {
            "text/plain": [
              "['e', 'r', 'e', ' ', 'i', 's', ' ', 'e', 'd', 'w', 'a', 'r']"
            ]
          },
          "metadata": {},
          "execution_count": 123
        }
      ],
      "source": [
        "[int_to_char[num] for num in b]"
      ]
    },
    {
      "cell_type": "code",
      "execution_count": 124,
      "id": "b6a63fe8",
      "metadata": {
        "colab": {
          "base_uri": "https://localhost:8080/"
        },
        "id": "b6a63fe8",
        "outputId": "5f16f5b7-df69-4416-b21c-c34ec2acc591"
      },
      "outputs": [
        {
          "output_type": "execute_result",
          "data": {
            "text/plain": [
              "[32, 29, 42, 29, 1, 33, 43, 1, 29, 28, 47, 25]"
            ]
          },
          "metadata": {},
          "execution_count": 124
        }
      ],
      "source": [
        "x_data[0]"
      ]
    },
    {
      "cell_type": "code",
      "execution_count": 125,
      "id": "cf2b9433",
      "metadata": {
        "colab": {
          "base_uri": "https://localhost:8080/"
        },
        "id": "cf2b9433",
        "outputId": "5aeed275-8014-4ee5-934b-281f0342acb5"
      },
      "outputs": [
        {
          "output_type": "execute_result",
          "data": {
            "text/plain": [
              "122768"
            ]
          },
          "metadata": {},
          "execution_count": 125
        }
      ],
      "source": [
        "len(y_data)"
      ]
    },
    {
      "cell_type": "code",
      "execution_count": 126,
      "id": "cf78bd62",
      "metadata": {
        "id": "cf78bd62"
      },
      "outputs": [],
      "source": [
        "x_data_one_hot = []\n",
        "y_data_one_hot = []\n",
        "for i in range(len(x_data)):\n",
        "    x = x_data[i]\n",
        "    y = y_data[i]\n",
        "    one_hots_x = []\n",
        "    one_hots_y = []\n",
        "    for j in range(len(x)):\n",
        "\n",
        "        zeros_x = np.zeros(len(dictianory))\n",
        "        zeros_y = np.zeros(len(dictianory))\n",
        "\n",
        "        zeros_y[y[j]] = 1\n",
        "        zeros_x[x[j]] = 1\n",
        "\n",
        "        one_hots_x.append(zeros_x)\n",
        "        one_hots_y.append(zeros_y)\n",
        "#         print(one_hots_x)\n",
        "\n",
        "    x_data_one_hot.append(one_hots_x)\n",
        "    y_data_one_hot.append(one_hots_y)\n"
      ]
    },
    {
      "cell_type": "code",
      "execution_count": 127,
      "id": "af79abe4",
      "metadata": {
        "id": "af79abe4"
      },
      "outputs": [],
      "source": [
        "a = x_data_one_hot[0]\n",
        "b = y_data_one_hot[0]"
      ]
    },
    {
      "cell_type": "code",
      "execution_count": 128,
      "id": "58993208",
      "metadata": {
        "colab": {
          "base_uri": "https://localhost:8080/"
        },
        "id": "58993208",
        "outputId": "b73332f4-8184-4dd8-efe0-6d997ca90cf7"
      },
      "outputs": [
        {
          "output_type": "execute_result",
          "data": {
            "text/plain": [
              "[array([0., 0., 0., 0., 0., 0., 0., 0., 0., 0., 0., 0., 0., 0., 0., 0., 0.,\n",
              "        0., 0., 0., 0., 0., 0., 0., 0., 0., 0., 0., 0., 0., 0., 0., 1., 0.,\n",
              "        0., 0., 0., 0., 0., 0., 0., 0., 0., 0., 0., 0., 0., 0., 0., 0., 0.,\n",
              "        0.]),\n",
              " array([0., 0., 0., 0., 0., 0., 0., 0., 0., 0., 0., 0., 0., 0., 0., 0., 0.,\n",
              "        0., 0., 0., 0., 0., 0., 0., 0., 0., 0., 0., 0., 1., 0., 0., 0., 0.,\n",
              "        0., 0., 0., 0., 0., 0., 0., 0., 0., 0., 0., 0., 0., 0., 0., 0., 0.,\n",
              "        0.]),\n",
              " array([0., 0., 0., 0., 0., 0., 0., 0., 0., 0., 0., 0., 0., 0., 0., 0., 0.,\n",
              "        0., 0., 0., 0., 0., 0., 0., 0., 0., 0., 0., 0., 0., 0., 0., 0., 0.,\n",
              "        0., 0., 0., 0., 0., 0., 0., 0., 1., 0., 0., 0., 0., 0., 0., 0., 0.,\n",
              "        0.]),\n",
              " array([0., 0., 0., 0., 0., 0., 0., 0., 0., 0., 0., 0., 0., 0., 0., 0., 0.,\n",
              "        0., 0., 0., 0., 0., 0., 0., 0., 0., 0., 0., 0., 1., 0., 0., 0., 0.,\n",
              "        0., 0., 0., 0., 0., 0., 0., 0., 0., 0., 0., 0., 0., 0., 0., 0., 0.,\n",
              "        0.]),\n",
              " array([0., 1., 0., 0., 0., 0., 0., 0., 0., 0., 0., 0., 0., 0., 0., 0., 0.,\n",
              "        0., 0., 0., 0., 0., 0., 0., 0., 0., 0., 0., 0., 0., 0., 0., 0., 0.,\n",
              "        0., 0., 0., 0., 0., 0., 0., 0., 0., 0., 0., 0., 0., 0., 0., 0., 0.,\n",
              "        0.]),\n",
              " array([0., 0., 0., 0., 0., 0., 0., 0., 0., 0., 0., 0., 0., 0., 0., 0., 0.,\n",
              "        0., 0., 0., 0., 0., 0., 0., 0., 0., 0., 0., 0., 0., 0., 0., 0., 1.,\n",
              "        0., 0., 0., 0., 0., 0., 0., 0., 0., 0., 0., 0., 0., 0., 0., 0., 0.,\n",
              "        0.]),\n",
              " array([0., 0., 0., 0., 0., 0., 0., 0., 0., 0., 0., 0., 0., 0., 0., 0., 0.,\n",
              "        0., 0., 0., 0., 0., 0., 0., 0., 0., 0., 0., 0., 0., 0., 0., 0., 0.,\n",
              "        0., 0., 0., 0., 0., 0., 0., 0., 0., 1., 0., 0., 0., 0., 0., 0., 0.,\n",
              "        0.]),\n",
              " array([0., 1., 0., 0., 0., 0., 0., 0., 0., 0., 0., 0., 0., 0., 0., 0., 0.,\n",
              "        0., 0., 0., 0., 0., 0., 0., 0., 0., 0., 0., 0., 0., 0., 0., 0., 0.,\n",
              "        0., 0., 0., 0., 0., 0., 0., 0., 0., 0., 0., 0., 0., 0., 0., 0., 0.,\n",
              "        0.]),\n",
              " array([0., 0., 0., 0., 0., 0., 0., 0., 0., 0., 0., 0., 0., 0., 0., 0., 0.,\n",
              "        0., 0., 0., 0., 0., 0., 0., 0., 0., 0., 0., 0., 1., 0., 0., 0., 0.,\n",
              "        0., 0., 0., 0., 0., 0., 0., 0., 0., 0., 0., 0., 0., 0., 0., 0., 0.,\n",
              "        0.]),\n",
              " array([0., 0., 0., 0., 0., 0., 0., 0., 0., 0., 0., 0., 0., 0., 0., 0., 0.,\n",
              "        0., 0., 0., 0., 0., 0., 0., 0., 0., 0., 0., 1., 0., 0., 0., 0., 0.,\n",
              "        0., 0., 0., 0., 0., 0., 0., 0., 0., 0., 0., 0., 0., 0., 0., 0., 0.,\n",
              "        0.]),\n",
              " array([0., 0., 0., 0., 0., 0., 0., 0., 0., 0., 0., 0., 0., 0., 0., 0., 0.,\n",
              "        0., 0., 0., 0., 0., 0., 0., 0., 0., 0., 0., 0., 0., 0., 0., 0., 0.,\n",
              "        0., 0., 0., 0., 0., 0., 0., 0., 0., 0., 0., 0., 0., 1., 0., 0., 0.,\n",
              "        0.]),\n",
              " array([0., 0., 0., 0., 0., 0., 0., 0., 0., 0., 0., 0., 0., 0., 0., 0., 0.,\n",
              "        0., 0., 0., 0., 0., 0., 0., 0., 1., 0., 0., 0., 0., 0., 0., 0., 0.,\n",
              "        0., 0., 0., 0., 0., 0., 0., 0., 0., 0., 0., 0., 0., 0., 0., 0., 0.,\n",
              "        0.])]"
            ]
          },
          "metadata": {},
          "execution_count": 128
        }
      ],
      "source": [
        "a"
      ]
    },
    {
      "cell_type": "code",
      "execution_count": 129,
      "id": "eacf82e4",
      "metadata": {
        "colab": {
          "base_uri": "https://localhost:8080/"
        },
        "id": "eacf82e4",
        "outputId": "e0d048c7-0b67-4a93-b4a8-a410195a25e7"
      },
      "outputs": [
        {
          "output_type": "execute_result",
          "data": {
            "text/plain": [
              "['h', 'e', 'r', 'e', ' ', 'i', 's', ' ', 'e', 'd', 'w', 'a']"
            ]
          },
          "metadata": {},
          "execution_count": 129
        }
      ],
      "source": [
        "[int_to_char[np.argmax(a[i])] for i in range(len(a))]"
      ]
    },
    {
      "cell_type": "code",
      "execution_count": 130,
      "id": "40e04a4b",
      "metadata": {
        "colab": {
          "base_uri": "https://localhost:8080/"
        },
        "id": "40e04a4b",
        "outputId": "f3d45b1f-4aeb-492b-85dd-38c735d9a9cb"
      },
      "outputs": [
        {
          "output_type": "execute_result",
          "data": {
            "text/plain": [
              "['e', 'r', 'e', ' ', 'i', 's', ' ', 'e', 'd', 'w', 'a', 'r']"
            ]
          },
          "metadata": {},
          "execution_count": 130
        }
      ],
      "source": [
        "[int_to_char[np.argmax(b[i])] for i in range(len(b))]"
      ]
    },
    {
      "cell_type": "code",
      "execution_count": 131,
      "id": "32b1c30c",
      "metadata": {
        "id": "32b1c30c"
      },
      "outputs": [],
      "source": [
        "x_data_one_hot = np.array(x_data_one_hot)"
      ]
    },
    {
      "cell_type": "code",
      "execution_count": 132,
      "id": "edf7ea05",
      "metadata": {
        "id": "edf7ea05"
      },
      "outputs": [],
      "source": [
        "y_data_one_hot = np.array(y_data_one_hot)"
      ]
    },
    {
      "cell_type": "code",
      "execution_count": 133,
      "id": "22870612",
      "metadata": {
        "colab": {
          "base_uri": "https://localhost:8080/"
        },
        "id": "22870612",
        "outputId": "0d9bea06-b319-490a-90cd-643d3ac83e73"
      },
      "outputs": [
        {
          "output_type": "execute_result",
          "data": {
            "text/plain": [
              "(122768, 12, 52)"
            ]
          },
          "metadata": {},
          "execution_count": 133
        }
      ],
      "source": [
        "x_data_one_hot.shape"
      ]
    },
    {
      "cell_type": "code",
      "execution_count": 137,
      "id": "2c0248b3",
      "metadata": {
        "id": "2c0248b3"
      },
      "outputs": [],
      "source": [
        "class Recurent:\n",
        "    def __init__(self,input_dim,hidden_step_dim):\n",
        "\n",
        "        self.input_dim = input_dim\n",
        "        self.hidden_step_dim = hidden_step_dim\n",
        "#         self.W_x = np.random.rand(self.input_dim, self.hidden_step_dim) * 0.1\n",
        "        self.W_x = np.random.uniform(-np.sqrt(1/52),np.sqrt(1/52),(self.input_dim, self.hidden_step_dim))\n",
        "#         self.W_h = np.random.rand(self.hidden_step_dim, self.hidden_step_dim) * 0.1\n",
        "        self.W_h = np.random.uniform(-np.sqrt(1/52),np.sqrt(1/52), (self.hidden_step_dim, self.hidden_step_dim))\n",
        "#         self.W_o = np.random.rand(self.hidden_step_dim,self.input_dim) * 0.1/\n",
        "        self.W_o = np.random.uniform(-np.sqrt(1/52),np.sqrt(1/52),(self.hidden_step_dim,self.input_dim))\n",
        "        self.b_o = np.zeros((self.input_dim))\n",
        "        self.b_h = np.zeros((self.hidden_step_dim))\n",
        "        self.hidden_units = []\n",
        "        self.output_units = []\n",
        "\n",
        "\n",
        "#         self.hidden_units = [((1,hidden_step_dim))]\n",
        "    def fit(self,X,Y,int_to_char,char_to_int,seq_length, epochs = 1000,lr = 0.01):\n",
        "\n",
        "\n",
        "\n",
        "        #separating X and Y by time steps\n",
        "\n",
        "        X_t = np.array([X[:,i,:] for i in range(X.shape[1])])\n",
        "        Y_t = np.array([Y[:,i,:] for i in range(Y.shape[1])])\n",
        "\n",
        "        #params for adam\n",
        "        # b1 = 0.9\n",
        "        # b2 = 0.999\n",
        "        # eps = 1e-6\n",
        "        # first_moments = [0] * 5\n",
        "        # second_moments = [0] * 5\n",
        "        r = [0] * 5\n",
        "        #performing feedforward\n",
        "        for epoch in range(1,epochs + 1):\n",
        "            self.hidden_units = [np.zeros((X_t.shape[1],self.hidden_step_dim))]\n",
        "            self.output_units = []\n",
        "\n",
        "            for t in range(X_t.shape[0]):\n",
        "                h_prev = self.hidden_units[-1]\n",
        "                h_t = np.tanh(X_t[t] @ self.W_x + h_prev @ self.W_h + self.b_h)\n",
        "\n",
        "                self.hidden_units.append(h_t)\n",
        "\n",
        "                o_t = h_t @ self.W_o + self.b_o\n",
        "                softmaxed = np.apply_along_axis(Recurent.softmax, axis =1 , arr = o_t)\n",
        "                self.output_units.append(softmaxed)\n",
        "\n",
        "            #computing losses\n",
        "            self.loss = 0\n",
        "            for i,output in enumerate(self.output_units):\n",
        "#                 self.loss+= -1 * (np.sum(Y_t[i] * np.log(output) ))/X_t.shape[1]\n",
        "#                 self.loss += -1 * (np.sum(np.log(output[Y_t[i] == 1])))\n",
        "                  self.loss += -np.sum(Y_t[i] * np.log(output))\n",
        "\n",
        "\n",
        "            print('epoch : {} , loss : {}'.format(epoch,self.loss/X_t.shape[1]))\n",
        "\n",
        "            #computing gradients\n",
        "            grads = [0] * 5\n",
        "            # grads [dW_o,  d_b_o ,  d_W_x,  d_W_h,  d_b_h ]\n",
        "            for t in reversed(range(len(self.output_units))):\n",
        "\n",
        "                #t = 4\n",
        "                grad_flow = self.output_units[t] - Y_t[t]\n",
        "#                 print(t)\n",
        "#                 print('----------------')\n",
        "                d_W_o = self.hidden_units[t + 1].T @ grad_flow\n",
        "                grads[0] += d_W_o\n",
        "\n",
        "                d_b_o = np.sum(grad_flow ,axis = 0)\n",
        "                grads[1] += d_b_o\n",
        "\n",
        "                grad_flow = grad_flow @ self.W_o.T\n",
        "\n",
        "                for i in reversed(range(t + 1)):\n",
        "#                     print(t,i)\n",
        "                    grad_flow = grad_flow * ( 1 - self.hidden_units[i + 1]**2)\n",
        "#                     print('self.hidden_units', i)\n",
        "                    d_W_x = X_t[i].T @  grad_flow\n",
        "                    d_W_h = self.hidden_units[i].T @ grad_flow\n",
        "                    d_b_h = np.sum(grad_flow, axis = 0)\n",
        "\n",
        "                    grads[2] += d_W_x\n",
        "                    grads[3] += d_W_h\n",
        "                    grads[4] += d_b_h\n",
        "\n",
        "                    grad_flow = grad_flow @ self.W_h.T\n",
        "\n",
        "            grads = [ (delta/X_t.shape[1]).clip(-1,1) for delta in grads]\n",
        "            self.grads = grads\n",
        "            if epoch % 99 == 0:\n",
        "                lr = lr/10\n",
        "\n",
        "#             #adam\n",
        "#             first_moments = [b1 * first_moments[i] + ( 1- b1) * grads[i] for i in range(len(grads))]\n",
        "#             second_moments = [b2 * second_moments[i] + (1 - b2) * grads[i]*grads[i] for i in range(len(grads))]\n",
        "\n",
        "#             corrected_first = [first_moments[i]/( 1- b1 **epoch) for i in range(len(grads))]\n",
        "#             corrected_second = [second_moments[i]/(1 - b2**epoch) for i in range(len(grads))]\n",
        "\n",
        "\n",
        "#             update = [lr * first_moments[i]/(np.sqrt(second_moments[i] + eps)) * grads[i] for i in range(len(grads))]\n",
        "            #adagrad\n",
        "            delta = 10 **( -7)\n",
        "            r = [r[i]  + grads[i] * grads[i] for i in range(len(grads))]\n",
        "            update = [- (grads[i] * lr)/(delta + np.sqrt(r[i])) for i in range(len(grads)) ]\n",
        "\n",
        "            #update_params\n",
        "            # grads [dW_o,  d_b_o ,  d_W_x,  d_W_h,  d_b_h ]\n",
        "            self.W_o += update[0]\n",
        "            self.b_o += update[1]\n",
        "            self.W_x += update[2]\n",
        "            self.W_h += update[3]\n",
        "            self.b_h += update[4]\n",
        "#             print(grads[0])\n",
        "            self.generate(int_to_char,char_to_int,seq_length)\n",
        "\n",
        "\n",
        "\n",
        "\n",
        "    def generate(self,int_to_char,char_to_int,seq_length,init_text = 't'):\n",
        "        text = init_text\n",
        "\n",
        "        hidden = np.zeros(self.hidden_step_dim)\n",
        "        for _ in range(50):\n",
        "#             print(init_text)\n",
        "            ints = char_to_int[init_text]\n",
        "            input = np.zeros(len(char_to_int))\n",
        "            input[ints] = 1\n",
        "\n",
        "            inputs = np.array(input)\n",
        "\n",
        "            output = []\n",
        "            # print(inputs.reshape(-1,1).shape,self.W_x.shape,hidden.reshape(-1,1).shape,self.b_h.reshape(-1,1).shape)\n",
        "            h_t = np.tanh(inputs.reshape(1,-1) @ self.W_x + hidden.reshape(1,-1) @ self.W_h + self.b_h.reshape(1,-1))\n",
        "            hidden = h_t\n",
        "\n",
        "            o_t = h_t @ self.W_o + self.b_o\n",
        "            softmaxed = Recurent.softmax(o_t)\n",
        "            arr = np.arange(0,len(char_to_int),1,dtype = 'uint8')\n",
        "            symb = np.random.choice(a = arr,p = softmaxed.flatten())\n",
        "\n",
        "\n",
        "\n",
        "            char = int_to_char[symb]\n",
        "\n",
        "            text += char\n",
        "\n",
        "            init_text = text[-1]\n",
        "\n",
        "        print(text)\n",
        "\n",
        "\n",
        "    @staticmethod\n",
        "    def softmax(x):\n",
        "        return(np.exp(x)/np.exp(x).sum())\n",
        "\n",
        "\n",
        "\n"
      ]
    },
    {
      "cell_type": "code",
      "execution_count": 138,
      "id": "33cec4e9",
      "metadata": {
        "id": "33cec4e9"
      },
      "outputs": [],
      "source": [
        "rnn = Recurent(52,40)"
      ]
    },
    {
      "cell_type": "code",
      "execution_count": null,
      "id": "e687555f",
      "metadata": {
        "colab": {
          "base_uri": "https://localhost:8080/"
        },
        "id": "e687555f",
        "outputId": "09f18f2f-075c-408c-8e53-9f9435e89c61"
      },
      "outputs": [
        {
          "output_type": "stream",
          "name": "stdout",
          "text": [
            "epoch : 1 , loss : 47.41879595339236\n",
            "t.* 3z9v 90pjj3_m4ze5)6or(e_98u1q7w3(9.-a\n",
            "l x:8c8*(\n",
            "epoch : 2 , loss : 46.92332880789946\n",
            "tzvy)(gru!p:*qfod,4*4:j2*apfæjfv3!*os\n",
            ":yh8uhwp3xt4s\n",
            "epoch : 3 , loss : 46.30976436975119\n",
            "tmchyo-c3r3\n",
            "crg;sbdp25d -vsm4sv)6!p4nl*ui*xælbu:*2y\n",
            "epoch : 4 , loss : 44.83862877711157\n",
            "tu\"(8tl:2nnlzk8p)d?**l rcse ligujdn0y\"re9g6?0\n",
            "jas(m\n",
            "epoch : 5 , loss : 41.88365895056688\n",
            "tdn etnea2nshs:h deeoe  v  oib a.eaoho\n",
            "yas  t sahxs\n",
            "epoch : 6 , loss : 39.94717596307442\n",
            "tpoh1sflnith nr tedeimeejwn\"rn4 \n",
            "nngitf,ett  :40the\n",
            "epoch : 7 , loss : 39.07540578416165\n",
            "tegt o\n",
            "l ifwetdst:tvwaosi5oruv iewh\n",
            "cr at ute  h? ,\n",
            "epoch : 8 , loss : 38.651387827907215\n",
            "t2suaa easwhot8hhr.i ykiaah  6u8h,er ai h\" g h \"ek \n",
            "epoch : 9 , loss : 38.40728566723935\n",
            "teamdiws,ab_  s nry ylenoe,no tto ttfe s,gld lærhso\n",
            "epoch : 10 , loss : 38.24353032680312\n",
            "t8(joab sde hd oom\n",
            "o  fodswrsheletiloph\"6omst,n cir\n",
            "epoch : 11 , loss : 38.12264747355613\n",
            "tssyzbans.  lea6ppawbhne\n",
            "e,lto r _al \"  ttab8aajfa*\n",
            "epoch : 12 , loss : 38.0267592272931\n",
            "tær(i)d scsisn\"dænt.\"e soed q_ylohtr. nuhon\"ist\n",
            "ghd\n",
            "epoch : 13 , loss : 37.947828042690546\n",
            "t\n",
            "yrtn(gtilreo ipl8 aaw baeci  _aeinec\n",
            "lpt fctearal\n",
            "epoch : 14 , loss : 37.880357639322895\n",
            "tfat  aan.tev dtrhd\n",
            "n t aipieeye  u'tr\"utd ccg\"n .e\n",
            "epoch : 15 , loss : 37.82111944546932\n",
            "t?tt\n",
            " alhe.q iads,dc ne hae fh nts;dso dpld lm t,n \n",
            "epoch : 16 , loss : 37.76776187189658\n",
            "tig rtd.lh.tadg\"naosnqtekhhtdstes\n",
            "letc me\" lsa\n",
            "m.iw\n"
          ]
        }
      ],
      "source": [
        "rnn.fit(x_data_one_hot,y_data_one_hot,int_to_char,char_to_int,seq_length)"
      ]
    },
    {
      "cell_type": "code",
      "source": [
        "#as we see the loss is decreasing"
      ],
      "metadata": {
        "id": "q0cW9wdOxHxb"
      },
      "id": "q0cW9wdOxHxb",
      "execution_count": null,
      "outputs": []
    }
  ],
  "metadata": {
    "kernelspec": {
      "display_name": "Python 3 (ipykernel)",
      "language": "python",
      "name": "python3"
    },
    "language_info": {
      "codemirror_mode": {
        "name": "ipython",
        "version": 3
      },
      "file_extension": ".py",
      "mimetype": "text/x-python",
      "name": "python",
      "nbconvert_exporter": "python",
      "pygments_lexer": "ipython3",
      "version": "3.11.3"
    },
    "colab": {
      "provenance": []
    }
  },
  "nbformat": 4,
  "nbformat_minor": 5
}
